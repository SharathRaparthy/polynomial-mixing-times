{
 "cells": [
  {
   "cell_type": "code",
   "execution_count": null,
   "outputs": [],
   "source": [
    "import numpy as np\n",
    "import os"
   ],
   "metadata": {
    "collapsed": false,
    "pycharm": {
     "name": "#%%\n"
    }
   }
  },
  {
   "cell_type": "code",
   "execution_count": null,
   "metadata": {
    "collapsed": true
   },
   "outputs": [],
   "source": [
    "env_name = \"NBottleneckClass-v0\"\n",
    "agents = [\"qlearning\", \"onpolicyrho\", \"replaylearning\", \"dynalearning\", \"nstepTDlearning\", \"offpolicyrho\", \"policygradient\", \"rhogradient\"]\n",
    "variants = [ \"random\", \"cycles\"]\n",
    "rooms = [4, 16]\n",
    "seeds = list(range(1, 11))\n",
    "\n",
    "for room in rooms:\n",
    "    for var in variants:\n",
    "        for ag in agents:\n",
    "            all_regrets = []\n",
    "            for i in seeds:\n",
    "                folder_path = os.getcwd() + f\"/results_aaai-1M/{env_name}/{ag}_{var}_{room}/\"\n",
    "                file_path = folder_path + f\"results_{i+1}.npy.npz\"\n",
    "                if not os.path.isfile(file_path):\n",
    "                    print(ag + str(i) + \" Skipped \" + str(var))\n",
    "                    continue\n",
    "                a = np.load(file_path)\n",
    "                if a[\"regrets\"].shape[0] < 1000000:\n",
    "                    print(\"Skipped \" + str(i+1))\n",
    "                    continue\n",
    "                all_regrets.append(a[\"regrets\"][:1000000])\n",
    "            regrets_mean = np.mean(np.asarray(all_regrets), 0)\n",
    "            regrets_std = np.std(np.asarray(all_regrets), 0)\n",
    "            print(\"Lifelong regret of {} |  Grid size {} | Task type {}\".format(ag, room, var))\n",
    "            print(\"After 10k steps: Mean - {} | Std - {}\".format(np.around(regrets_mean[int(1e4) - 1] / int(1e4),  3), np.around(regrets_std[int(1e4) - 1]/ int(1e4), 3)))\n",
    "            print(\"After 100k steps: Mean - {} | Std - {}\".format(np.around(regrets_mean[int(1e5) - 1]/ int(1e5), 3), np.around(regrets_std[int(1e5) - 1]/ int(1e5), 3)))\n",
    "            print(\"After 1000k steps: Mean - {} | Std - {}\".format(np.around(regrets_mean[int(1e6) - 1]/ int(1e6), 3), np.around(regrets_std[int(1e6) - 1]/ int(1e6), 3)))\n",
    "            print(\"============================================\")\n",
    "\n",
    "\n"
   ]
  }
 ],
 "metadata": {
  "kernelspec": {
   "display_name": "Python 3",
   "language": "python",
   "name": "python3"
  },
  "language_info": {
   "codemirror_mode": {
    "name": "ipython",
    "version": 2
   },
   "file_extension": ".py",
   "mimetype": "text/x-python",
   "name": "python",
   "nbconvert_exporter": "python",
   "pygments_lexer": "ipython2",
   "version": "2.7.6"
  }
 },
 "nbformat": 4,
 "nbformat_minor": 0
}